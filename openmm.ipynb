{
 "cells": [
  {
   "cell_type": "markdown",
   "id": "a8448697-f020-4cc5-8020-bb935e6e53b6",
   "metadata": {},
   "source": [
    "# MDTraj NetCDF Reporter\n",
    "\n",
    "Tested through OpenMM reporter interface.\n",
    "\n",
    "See OpenMM issue: https://github.com/openmm/openmm/issues/4298\n",
    "\n",
    "See MDTraj issue: https://github.com/mdtraj/mdtraj/issues/1831\n",
    "\n",
    "Sample system taken from OpenMM Cookbook: https://openmm.github.io/openmm-cookbook/latest/notebooks/tutorials/protein_in_water.html"
   ]
  },
  {
   "cell_type": "code",
   "execution_count": null,
   "id": "e815ceea-aff9-43c7-b991-7d9a6e0f8567",
   "metadata": {},
   "outputs": [],
   "source": [
    "!wget https://files.rcsb.org/download/1AKI.pdb"
   ]
  },
  {
   "cell_type": "code",
   "execution_count": 1,
   "id": "100f3b05-809b-488a-82d2-2522e634a608",
   "metadata": {},
   "outputs": [],
   "source": [
    "from openmm.app import *\n",
    "from openmm import *\n",
    "from openmm.unit import *\n",
    "from sys import stdout\n",
    "\n",
    "pdb = PDBFile(\"1AKI.pdb\")"
   ]
  },
  {
   "cell_type": "code",
   "execution_count": 2,
   "id": "7a1a4c38-78a9-44aa-b445-13727eff7356",
   "metadata": {},
   "outputs": [],
   "source": [
    "# Specify the forcefield\n",
    "forcefield = ForceField('amber14-all.xml', 'amber14/tip3pfb.xml')"
   ]
  },
  {
   "cell_type": "code",
   "execution_count": 3,
   "id": "70e48c81-39c4-4c82-bd5d-f32cdd7bd08f",
   "metadata": {},
   "outputs": [],
   "source": [
    "modeller = Modeller(pdb.topology, pdb.positions)\n",
    "modeller.deleteWater()\n",
    "residues=modeller.addHydrogens(forcefield)"
   ]
  },
  {
   "cell_type": "code",
   "execution_count": 4,
   "id": "1247ee6d-c6dd-4ffc-9052-9da3693880ad",
   "metadata": {},
   "outputs": [],
   "source": [
    "# forget about solvent for demonstration\n",
    "# modeller.addSolvent(forcefield, padding=1.0*nanometer)"
   ]
  },
  {
   "cell_type": "code",
   "execution_count": 5,
   "id": "fe8e866b-2e7f-4427-841d-1c298ec22783",
   "metadata": {},
   "outputs": [],
   "source": [
    "system = forcefield.createSystem(modeller.topology, nonbondedMethod=PME, nonbondedCutoff=0.5*nanometer, constraints=HBonds)\n",
    "integrator = LangevinMiddleIntegrator(300*kelvin, 1/picosecond, 0.004*picoseconds)\n",
    "simulation = Simulation(modeller.topology, system, integrator)\n",
    "simulation.context.setPositions(modeller.positions)"
   ]
  },
  {
   "cell_type": "code",
   "execution_count": 6,
   "id": "5ccc91eb-5769-47fc-9a4b-c0b8f8b8fdbb",
   "metadata": {},
   "outputs": [],
   "source": [
    "#print(\"Minimizing energy\")\n",
    "simulation.minimizeEnergy()"
   ]
  },
  {
   "cell_type": "markdown",
   "id": "6ddca541-1db8-4899-a14b-0dc49364f818",
   "metadata": {},
   "source": [
    "## Use `NetCDF` reporter\n",
    "\n",
    "This simulation + reporter set is run in an environment with `netCDF4` installed."
   ]
  },
  {
   "cell_type": "code",
   "execution_count": 7,
   "id": "b30bfc10-b2a6-4445-9eb8-a332600f2648",
   "metadata": {},
   "outputs": [],
   "source": [
    "from mdtraj.reporters import NetCDFReporter"
   ]
  },
  {
   "cell_type": "code",
   "execution_count": 8,
   "id": "8127be78-f57d-45cc-8317-5745de299e8a",
   "metadata": {},
   "outputs": [
    {
     "name": "stdout",
     "output_type": "stream",
     "text": [
      "<class 'netCDF4._netCDF4.Dataset'>\n"
     ]
    }
   ],
   "source": [
    "reporter1 = NetCDFReporter('trajectory_netcdf4.nc', 1000)\n",
    "reporter2 = NetCDFReporter('trajectory_netcdf4_100.nc', 10)\n",
    "print(type(reporter1._traj_file._handle))"
   ]
  },
  {
   "cell_type": "code",
   "execution_count": 9,
   "id": "27b00168-c042-4891-bb5b-1fa50733b9ac",
   "metadata": {},
   "outputs": [
    {
     "name": "stdout",
     "output_type": "stream",
     "text": [
      "Running NVT\n",
      "#\"Step\",\"Potential Energy (kJ/mole)\",\"Temperature (K)\",\"Box Volume (nm^3)\"\n",
      "1000,-11362.734104145115,290.55084148073956,123.37574384135401\n",
      "2000,-11345.606998432224,307.0269565866364,123.37574384135401\n"
     ]
    }
   ],
   "source": [
    "simulation.reporters.append(reporter1)\n",
    "simulation.reporters.append(reporter2)\n",
    "simulation.reporters.append(StateDataReporter(stdout, 1000, step=True,\n",
    "        potentialEnergy=True, temperature=True, volume=True))\n",
    "simulation.reporters.append(StateDataReporter(\"md_log.txt\", 100, step=True,\n",
    "        potentialEnergy=True, temperature=True, volume=True))\n",
    "\n",
    "print(\"Running NVT\")\n",
    "simulation.step(2000)"
   ]
  },
  {
   "cell_type": "code",
   "execution_count": 10,
   "id": "131c72c8-689e-4878-b1d8-6f3de06bc3d1",
   "metadata": {},
   "outputs": [
    {
     "data": {
      "text/plain": [
       "1960"
      ]
     },
     "execution_count": 10,
     "metadata": {},
     "output_type": "execute_result"
    }
   ],
   "source": [
    "reporter1._traj_file.n_atoms"
   ]
  },
  {
   "cell_type": "code",
   "execution_count": 11,
   "id": "f163b252-ed64-4481-96b5-b4e18744e40d",
   "metadata": {},
   "outputs": [
    {
     "data": {
      "text/plain": [
       "2"
      ]
     },
     "execution_count": 11,
     "metadata": {},
     "output_type": "execute_result"
    }
   ],
   "source": [
    "reporter1._traj_file.n_frames"
   ]
  },
  {
   "cell_type": "code",
   "execution_count": 12,
   "id": "43e13036-5e0d-4ce1-b4aa-7218a6a690e0",
   "metadata": {},
   "outputs": [
    {
     "data": {
      "text/plain": [
       "200"
      ]
     },
     "execution_count": 12,
     "metadata": {},
     "output_type": "execute_result"
    }
   ],
   "source": [
    "reporter2._traj_file.n_frames"
   ]
  },
  {
   "cell_type": "code",
   "execution_count": 13,
   "id": "10f49d38-4030-4b63-9255-b3091a686029",
   "metadata": {},
   "outputs": [
    {
     "data": {
      "text/plain": [
       "<bound method Dataset.createVariable of <class 'netCDF4._netCDF4.Dataset'>\n",
       "root group (NETCDF3_64BIT_OFFSET data model, file format NETCDF3):\n",
       "    title: CREATED at 2024-05-06 17:35:25.515348 on jessica-lenovo\n",
       "    application: Omnia\n",
       "    program: MDTraj\n",
       "    programVersion: 1.9.10.dev0\n",
       "    Conventions: AMBER\n",
       "    ConventionVersion: 1.0\n",
       "    dimensions(sizes): frame(200), spatial(3), atom(1960), cell_spatial(3), cell_angular(3), label(5)\n",
       "    variables(dimensions): float64 cell_lengths(frame, cell_spatial), float64 cell_angles(frame, cell_angular), |S1 cell_spatial(cell_spatial), |S1 cell_angular(cell_spatial, label), float32 time(frame), float32 coordinates(frame, atom, spatial), |S1 spatial(spatial)\n",
       "    groups: >"
      ]
     },
     "execution_count": 13,
     "metadata": {},
     "output_type": "execute_result"
    }
   ],
   "source": [
    "reporter2._traj_file._handle.createVariable"
   ]
  },
  {
   "cell_type": "code",
   "execution_count": 14,
   "id": "9cd21857-c7b7-433a-ae62-b8585f980b08",
   "metadata": {},
   "outputs": [],
   "source": [
    "# clear reporters\n",
    "simulation.reporters.clear()"
   ]
  },
  {
   "cell_type": "markdown",
   "id": "6b3e72b4-b9a9-4dad-8ba6-6ffa8d0738a0",
   "metadata": {},
   "source": [
    "## Patch to exclude `netCDF4` for behavior test\n",
    "\n",
    "This emulates an environment where netCDF4 is not installed and the SciPy fallback is used."
   ]
  },
  {
   "cell_type": "code",
   "execution_count": 15,
   "id": "f50a5973-8e57-42bc-8835-4765b8a5b483",
   "metadata": {},
   "outputs": [],
   "source": [
    "import sys"
   ]
  },
  {
   "cell_type": "code",
   "execution_count": 16,
   "id": "a68e9aec-e084-4d42-bed1-a995425dec8e",
   "metadata": {},
   "outputs": [],
   "source": [
    "# unload netCDF4 and mdtraj\n",
    "\n",
    "sys.modules[\"netCDF4\"] = None\n",
    "\n",
    "if 'mdtraj.reporters.NetCDFReporter' in sys.modules:\n",
    "    del sys.modules['mdtraj.reporters.NetCDFReporter']\n",
    "\n",
    "if 'mdtraj.reporters' in sys.modules:\n",
    "    del sys.modules['mdtraj.reporters']\n",
    "\n",
    "if 'mdtraj' in sys.modules:\n",
    "    del sys.modules['mdtraj']"
   ]
  },
  {
   "cell_type": "code",
   "execution_count": 17,
   "id": "2ac3f188-83f8-4c35-86d6-c3ecf86b3ce9",
   "metadata": {},
   "outputs": [],
   "source": [
    "from mdtraj.reporters import NetCDFReporter"
   ]
  },
  {
   "cell_type": "code",
   "execution_count": 18,
   "id": "952d6a94-f64b-4a14-9c59-503f63496156",
   "metadata": {},
   "outputs": [
    {
     "name": "stderr",
     "output_type": "stream",
     "text": [
      "Warning: The 'netCDF4' Python module is not installed. MDTraj is using the 'scipy' implementation to read and write netCDF files,which can be significantly slower.\n",
      "For improved performance, consider installing the 'netCDF4' module. See installation instructions at:\n",
      "https://unidata.github.io/netcdf4-python/#quick-install\n"
     ]
    }
   ],
   "source": [
    "reporter = NetCDFReporter('trajectory_netcdf4.nc', 1000)"
   ]
  },
  {
   "cell_type": "code",
   "execution_count": 19,
   "id": "be9abefb",
   "metadata": {},
   "outputs": [
    {
     "name": "stdout",
     "output_type": "stream",
     "text": [
      "<class 'scipy.io._netcdf.netcdf_file'>\n"
     ]
    }
   ],
   "source": [
    "print(type(reporter._traj_file._handle))"
   ]
  },
  {
   "cell_type": "code",
   "execution_count": 20,
   "id": "d622e222-467d-43ce-9bb4-819843320f8d",
   "metadata": {},
   "outputs": [],
   "source": [
    "simulation.reporters.append(reporter)\n",
    "simulation.reporters.append(StateDataReporter(stdout, 1000, step=True,\n",
    "        potentialEnergy=True, temperature=True, volume=True))\n",
    "simulation.reporters.append(StateDataReporter(\"md_log.txt\", 100, step=True,\n",
    "        potentialEnergy=True, temperature=True, volume=True))"
   ]
  },
  {
   "cell_type": "code",
   "execution_count": 21,
   "id": "3b4e61dd-1fc0-4ebd-836b-23c048943da7",
   "metadata": {},
   "outputs": [
    {
     "name": "stdout",
     "output_type": "stream",
     "text": [
      "Running NVT\n",
      "#\"Step\",\"Potential Energy (kJ/mole)\",\"Temperature (K)\",\"Box Volume (nm^3)\"\n",
      "3000,-11383.914951313083,289.8766910514546,123.37574384135401\n",
      "4000,-11462.98418043906,301.658394906099,123.37574384135401\n"
     ]
    }
   ],
   "source": [
    "print(\"Running NVT\")\n",
    "simulation.step(2000)"
   ]
  },
  {
   "cell_type": "code",
   "execution_count": 22,
   "id": "efaedec9-4dfb-4a9f-a6e9-bd8c449d2ada",
   "metadata": {},
   "outputs": [
    {
     "data": {
      "text/plain": [
       "1960"
      ]
     },
     "execution_count": 22,
     "metadata": {},
     "output_type": "execute_result"
    }
   ],
   "source": [
    "reporter._traj_file.n_atoms"
   ]
  },
  {
   "cell_type": "code",
   "execution_count": 23,
   "id": "5f49cd90-c13a-4166-9559-978fc3312141",
   "metadata": {},
   "outputs": [
    {
     "data": {
      "text/plain": [
       "2"
      ]
     },
     "execution_count": 23,
     "metadata": {},
     "output_type": "execute_result"
    }
   ],
   "source": [
    "reporter._traj_file.n_frames"
   ]
  },
  {
   "cell_type": "code",
   "execution_count": null,
   "id": "2ab8939f-d1bc-4f3c-bb63-bbe577585392",
   "metadata": {},
   "outputs": [],
   "source": []
  },
  {
   "cell_type": "code",
   "execution_count": null,
   "id": "edcf2adb",
   "metadata": {},
   "outputs": [],
   "source": []
  }
 ],
 "metadata": {
  "kernelspec": {
   "display_name": "Python 3 (ipykernel)",
   "language": "python",
   "name": "python3"
  },
  "language_info": {
   "codemirror_mode": {
    "name": "ipython",
    "version": 3
   },
   "file_extension": ".py",
   "mimetype": "text/x-python",
   "name": "python",
   "nbconvert_exporter": "python",
   "pygments_lexer": "ipython3",
   "version": "3.11.8"
  }
 },
 "nbformat": 4,
 "nbformat_minor": 5
}
