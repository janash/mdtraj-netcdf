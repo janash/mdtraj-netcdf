{
 "cells": [
  {
   "cell_type": "markdown",
   "id": "a8448697-f020-4cc5-8020-bb935e6e53b6",
   "metadata": {},
   "source": [
    "# MDTraj NetCDF Reporter\n",
    "\n",
    "Tested through OpenMM reporter interface.\n",
    "\n",
    "See OpenMM issue: https://github.com/openmm/openmm/issues/4298\n",
    "\n",
    "See MDTraj issue: https://github.com/mdtraj/mdtraj/issues/1831\n",
    "\n",
    "Sample system taken from OpenMM Cookbook: https://openmm.github.io/openmm-cookbook/latest/notebooks/tutorials/protein_in_water.html"
   ]
  },
  {
   "cell_type": "code",
   "execution_count": 1,
   "id": "e815ceea-aff9-43c7-b991-7d9a6e0f8567",
   "metadata": {},
   "outputs": [
    {
     "name": "stdout",
     "output_type": "stream",
     "text": [
      "--2024-04-18 16:40:38--  https://files.rcsb.org/download/1AKI.pdb\n",
      "Resolving files.rcsb.org (files.rcsb.org)... 128.6.159.100\n",
      "Connecting to files.rcsb.org (files.rcsb.org)|128.6.159.100|:443... connected.\n",
      "HTTP request sent, awaiting response... 200 OK\n",
      "Length: unspecified [application/octet-stream]\n",
      "Saving to: ‘1AKI.pdb.9’\n",
      "\n",
      "1AKI.pdb.9              [ <=>                ] 113.59K  --.-KB/s    in 0.1s    \n",
      "\n",
      "2024-04-18 16:40:38 (1.11 MB/s) - ‘1AKI.pdb.9’ saved [116316]\n",
      "\n"
     ]
    }
   ],
   "source": [
    "!wget https://files.rcsb.org/download/1AKI.pdb"
   ]
  },
  {
   "cell_type": "code",
   "execution_count": 2,
   "id": "100f3b05-809b-488a-82d2-2522e634a608",
   "metadata": {},
   "outputs": [],
   "source": [
    "from openmm.app import *\n",
    "from openmm import *\n",
    "from openmm.unit import *\n",
    "from sys import stdout\n",
    "\n",
    "pdb = PDBFile(\"1AKI.pdb\")"
   ]
  },
  {
   "cell_type": "code",
   "execution_count": 3,
   "id": "7a1a4c38-78a9-44aa-b445-13727eff7356",
   "metadata": {},
   "outputs": [],
   "source": [
    "# Specify the forcefield\n",
    "forcefield = ForceField('amber14-all.xml', 'amber14/tip3pfb.xml')"
   ]
  },
  {
   "cell_type": "code",
   "execution_count": 4,
   "id": "70e48c81-39c4-4c82-bd5d-f32cdd7bd08f",
   "metadata": {},
   "outputs": [],
   "source": [
    "modeller = Modeller(pdb.topology, pdb.positions)\n",
    "modeller.deleteWater()\n",
    "residues=modeller.addHydrogens(forcefield)"
   ]
  },
  {
   "cell_type": "code",
   "execution_count": 5,
   "id": "1247ee6d-c6dd-4ffc-9052-9da3693880ad",
   "metadata": {},
   "outputs": [],
   "source": [
    "modeller.addSolvent(forcefield, padding=1.0*nanometer)"
   ]
  },
  {
   "cell_type": "code",
   "execution_count": 6,
   "id": "fe8e866b-2e7f-4427-841d-1c298ec22783",
   "metadata": {},
   "outputs": [],
   "source": [
    "system = forcefield.createSystem(modeller.topology, nonbondedMethod=PME, nonbondedCutoff=1.0*nanometer, constraints=HBonds)\n",
    "integrator = LangevinMiddleIntegrator(300*kelvin, 1/picosecond, 0.004*picoseconds)\n",
    "simulation = Simulation(modeller.topology, system, integrator)\n",
    "simulation.context.setPositions(modeller.positions)"
   ]
  },
  {
   "cell_type": "code",
   "execution_count": 7,
   "id": "5ccc91eb-5769-47fc-9a4b-c0b8f8b8fdbb",
   "metadata": {},
   "outputs": [],
   "source": [
    "#print(\"Minimizing energy\")\n",
    "simulation.minimizeEnergy()"
   ]
  },
  {
   "cell_type": "markdown",
   "id": "6ddca541-1db8-4899-a14b-0dc49364f818",
   "metadata": {},
   "source": [
    "## Use `NetCDF` reporter\n",
    "\n",
    "This simulation + reporter set is run in an environment with `netCDF4` installed."
   ]
  },
  {
   "cell_type": "code",
   "execution_count": 8,
   "id": "b30bfc10-b2a6-4445-9eb8-a332600f2648",
   "metadata": {},
   "outputs": [],
   "source": [
    "from mdtraj.reporters import NetCDFReporter"
   ]
  },
  {
   "cell_type": "code",
   "execution_count": 9,
   "id": "8127be78-f57d-45cc-8317-5745de299e8a",
   "metadata": {},
   "outputs": [
    {
     "name": "stdout",
     "output_type": "stream",
     "text": [
      "<class 'netCDF4._netCDF4.Dataset'>\n"
     ]
    }
   ],
   "source": [
    "reporter = NetCDFReporter('trajectory_netcdf4.nc', 1000)\n",
    "print(type(reporter._traj_file._handle))"
   ]
  },
  {
   "cell_type": "code",
   "execution_count": 10,
   "id": "27b00168-c042-4891-bb5b-1fa50733b9ac",
   "metadata": {},
   "outputs": [
    {
     "name": "stdout",
     "output_type": "stream",
     "text": [
      "Running NVT\n",
      "#\"Step\",\"Potential Energy (kJ/mole)\",\"Temperature (K)\",\"Box Volume (nm^3)\"\n",
      "1000,-360806.8896783618,289.72951536530525,236.97179878134529\n",
      "2000,-357138.6416314868,300.1759240889786,236.97179878134529\n"
     ]
    }
   ],
   "source": [
    "simulation.reporters.append(reporter)\n",
    "simulation.reporters.append(StateDataReporter(stdout, 1000, step=True,\n",
    "        potentialEnergy=True, temperature=True, volume=True))\n",
    "simulation.reporters.append(StateDataReporter(\"md_log.txt\", 100, step=True,\n",
    "        potentialEnergy=True, temperature=True, volume=True))\n",
    "\n",
    "print(\"Running NVT\")\n",
    "simulation.step(2000)\n",
    "\n",
    "# clear reporters\n",
    "simulation.reporters.clear()"
   ]
  },
  {
   "cell_type": "markdown",
   "id": "6b3e72b4-b9a9-4dad-8ba6-6ffa8d0738a0",
   "metadata": {},
   "source": [
    "## Patch to exclude `netCDF4` for behavior test\n",
    "\n",
    "This emulates an environment where netCDF4 is not installed and the SciPy fallback is used."
   ]
  },
  {
   "cell_type": "code",
   "execution_count": 11,
   "id": "f50a5973-8e57-42bc-8835-4765b8a5b483",
   "metadata": {},
   "outputs": [],
   "source": [
    "import sys"
   ]
  },
  {
   "cell_type": "code",
   "execution_count": 12,
   "id": "a68e9aec-e084-4d42-bed1-a995425dec8e",
   "metadata": {},
   "outputs": [],
   "source": [
    "# unload netCDF4 and mdtraj\n",
    "\n",
    "sys.modules[\"netCDF4\"] = None\n",
    "\n",
    "if 'mdtraj.reporters.NetCDFReporter' in sys.modules:\n",
    "    del sys.modules['mdtraj.reporters.NetCDFReporter']\n",
    "\n",
    "if 'mdtraj.reporters' in sys.modules:\n",
    "    del sys.modules['mdtraj.reporters']\n",
    "\n",
    "if 'mdtraj' in sys.modules:\n",
    "    del sys.modules['mdtraj']"
   ]
  },
  {
   "cell_type": "code",
   "execution_count": 13,
   "id": "2ac3f188-83f8-4c35-86d6-c3ecf86b3ce9",
   "metadata": {},
   "outputs": [],
   "source": [
    "from mdtraj.reporters import NetCDFReporter"
   ]
  },
  {
   "cell_type": "code",
   "execution_count": 14,
   "id": "952d6a94-f64b-4a14-9c59-503f63496156",
   "metadata": {},
   "outputs": [
    {
     "name": "stdout",
     "output_type": "stream",
     "text": [
      "<class 'scipy.io._netcdf.netcdf_file'>\n"
     ]
    },
    {
     "name": "stderr",
     "output_type": "stream",
     "text": [
      "\n",
      "\u001b[91m#################################################################################\u001b[0m\n",
      "\n",
      "The code at netcdf.py:130 requires the netcdf4-python module,\n",
      "which is a python interface to the NetCDF software libraries and self-describing,\n",
      "machine-independent data formats that support the creation, access, and\n",
      "sharing of array-oriented scientific data.\n",
      "\n",
      "netcdf4-python can be downloaded from https://pypi.python.org/pypi/netCDF,\n",
      "or installed with the python \"coonda\" or \"pip\" package managers using:\n",
      "\n",
      "# conda install -c conda-forge netCDF4\n",
      "or\n",
      "# pip install netCDF4\n",
      "\n",
      "netcdf4-python also depends on the C-language HDF5 and NetCDF libraries.\n",
      "For detailed installation instructions, visit\n",
      "https://unidata.github.io/netcdf4-python/#quick-install\n",
      "\n",
      "\u001b[91m#################################################################################\u001b[0m\n",
      "/home/janash/miniconda3/envs/mdtraj/lib/python3.11/site-packages/mdtraj/formats/netcdf.py:147: UserWarning: Could not find netCDF4 module. Falling back on scipy implementation, which can be significantlyslower than the netCDF4 implementation.\n",
      "  warnings.warn('Could not find netCDF4 module. Falling back on '\n"
     ]
    }
   ],
   "source": [
    "reporter = NetCDFReporter('trajectory_netcdf4.nc', 1000)\n",
    "print(type(reporter._traj_file._handle))"
   ]
  },
  {
   "cell_type": "code",
   "execution_count": 15,
   "id": "d622e222-467d-43ce-9bb4-819843320f8d",
   "metadata": {},
   "outputs": [],
   "source": [
    "simulation.reporters.append(reporter)\n",
    "simulation.reporters.append(StateDataReporter(stdout, 1000, step=True,\n",
    "        potentialEnergy=True, temperature=True, volume=True))\n",
    "simulation.reporters.append(StateDataReporter(\"md_log.txt\", 100, step=True,\n",
    "        potentialEnergy=True, temperature=True, volume=True))"
   ]
  },
  {
   "cell_type": "code",
   "execution_count": 16,
   "id": "3b4e61dd-1fc0-4ebd-836b-23c048943da7",
   "metadata": {},
   "outputs": [
    {
     "name": "stdout",
     "output_type": "stream",
     "text": [
      "Running NVT\n",
      "#\"Step\",\"Potential Energy (kJ/mole)\",\"Temperature (K)\",\"Box Volume (nm^3)\"\n",
      "3000,-356971.4092096118,302.2788026492188,236.97179878134529\n",
      "4000,-355657.9013971118,300.679841138615,236.97179878134529\n"
     ]
    }
   ],
   "source": [
    "print(\"Running NVT\")\n",
    "simulation.step(2000)"
   ]
  },
  {
   "cell_type": "code",
   "execution_count": null,
   "id": "efaedec9-4dfb-4a9f-a6e9-bd8c449d2ada",
   "metadata": {},
   "outputs": [],
   "source": []
  }
 ],
 "metadata": {
  "kernelspec": {
   "display_name": "Python 3 (ipykernel)",
   "language": "python",
   "name": "python3"
  },
  "language_info": {
   "codemirror_mode": {
    "name": "ipython",
    "version": 3
   },
   "file_extension": ".py",
   "mimetype": "text/x-python",
   "name": "python",
   "nbconvert_exporter": "python",
   "pygments_lexer": "ipython3",
   "version": "3.11.8"
  }
 },
 "nbformat": 4,
 "nbformat_minor": 5
}
